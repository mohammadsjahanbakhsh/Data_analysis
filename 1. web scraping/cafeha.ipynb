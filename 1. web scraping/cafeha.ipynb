{
 "cells": [
  {
   "cell_type": "markdown",
   "metadata": {},
   "source": [
    "## کتابخانه های مورد نیاز "
   ]
  },
  {
   "cell_type": "code",
   "execution_count": 1,
   "metadata": {},
   "outputs": [],
   "source": [
    "from bs4 import BeautifulSoup\n",
    "import requests\n",
    "import pandas as pd\n",
    "from time import sleep,time\n",
    "import re\n",
    "from numpy import nan as NaN"
   ]
  },
  {
   "cell_type": "markdown",
   "metadata": {},
   "source": [
    "## توابع مورد نیاز "
   ]
  },
  {
   "cell_type": "code",
   "execution_count": 4,
   "metadata": {},
   "outputs": [],
   "source": [
    "#   زیاد بود تابع برایش تعریف کردمcss selectorرکوئست \n",
    "def try_css_selector(soup,css):\n",
    "    \n",
    "    try:\n",
    "        return soup.select_one(css).text.strip()\n",
    "        \n",
    "    except AttributeError:\n",
    "        return None\n",
    "    \n"
   ]
  },
  {
   "cell_type": "code",
   "execution_count": 5,
   "metadata": {},
   "outputs": [],
   "source": [
    "#ادغام دیکشنری\n",
    "merge_dic=lambda x,y:x|y"
   ]
  },
  {
   "cell_type": "code",
   "execution_count": 6,
   "metadata": {},
   "outputs": [],
   "source": [
    "# تبدیل اعشار ساعت به دقیقه\n",
    "def convert_to_standard_time(x):\n",
    "  try:\n",
    "    int_=int(float(x))\n",
    "    float_=float(x) - int_\n",
    "    # print('int ',int_)\n",
    "    # print('float ',float_)\n",
    "    \n",
    "    if float_ == 0.25 or float_ == 0.75:\n",
    "         \n",
    "        temp= str(int_) + \":\"+ str(int( float_*60))\n",
    "     \n",
    "    else:\n",
    "       temp = str(int_) + \":\"+ str(int( float_*6)) + \"0\"\n",
    "       \n",
    "    return temp\n",
    "  except:\n",
    "       return None \n",
    "  \n"
   ]
  },
  {
   "cell_type": "code",
   "execution_count": 7,
   "metadata": {},
   "outputs": [],
   "source": [
    "# برای اینکه بتوانم تایم هارا جدا کنم دقیقه هارا تبدیل به اعشار ساعت کردم\n",
    "def time_(x):\n",
    "  \n",
    "  y=list()\n",
    "  times=dict()\n",
    "  try:\n",
    "    \n",
    "      \n",
    "    if \"-\" in x:\n",
    "      \n",
    "      x=x.replace(\"-\",\" \")\n",
    "      # print(\"- \",x)\n",
    "    while True:\n",
    "        if \":\" in x:\n",
    "          if \":30\" in x:\n",
    "            x=x.replace(\":30\",\".5\")\n",
    "      \n",
    "          elif \":45\" in x:\n",
    "            x=x.replace(\":45\",\".75\")\n",
    "      \n",
    "          elif \":15\" in x:\n",
    "            x=x.replace(\":15\",\".25\")\n",
    "      \n",
    "          elif \":00\" in x:\n",
    "             x=x.replace(\":00\",\".0\")\n",
    "          # print(\": \",x)\n",
    "        elif \":\" not in x: break\n",
    "      \n",
    "      \n",
    "    \n",
    "    for i in x.split():\n",
    "      \n",
    "      try:\n",
    "         if float(i):\n",
    "          y.append(i)\n",
    "      except ValueError:\n",
    "        pass\n",
    "      # print(\"i\",i)\n",
    "      # print(\"y \",y)\n",
    "\n",
    "    if len(y) == 2:\n",
    "      times[\"time_open_weekday\"]=convert_to_standard_time(y[0])\n",
    "      times[\"time_close_weekday\"]=convert_to_standard_time(y[1])\n",
    "      times[\"time_open_weekend\"]=None\n",
    "      times[\"time_close_weekend\"]=None\n",
    "\n",
    "    elif len(y)==4:\n",
    "      times[\"time_open_weekday\"]=convert_to_standard_time(y[0])\n",
    "      times[\"time_close_weekday\"]=convert_to_standard_time(y[1])\n",
    "      times[\"time_open_weekend\"]=convert_to_standard_time(y[2])\n",
    "      times[\"time_close_weekend\"]=convert_to_standard_time(y[3])\n",
    "\n",
    "  except:\n",
    "      times[\"time_open_weekday\"]=None\n",
    "      times[\"time_close_weekday\"]=None\n",
    "      times[\"time_open_weekend\"]=None\n",
    "      times[\"time_close_weekend\"]=None\n",
    "\n",
    "  return times\n",
    "\n"
   ]
  },
  {
   "cell_type": "code",
   "execution_count": 2,
   "metadata": {},
   "outputs": [],
   "source": [
    "# باگی در تایم ها بود لینک ها در خروجی ژوپیتر بود را در فایلی کپی کردم \n",
    "\n",
    "with open(r\"link\\link_cafe.txt\",'r') as f:\n",
    "    link_cafe = [line.rstrip() for line in f]\n"
   ]
  },
  {
   "attachments": {},
   "cell_type": "markdown",
   "metadata": {},
   "source": [
    "##دیزاین  سایت تغییر کرده است و خروجی ای به ما نمیدهد در 11/25 تست کردم"
   ]
  },
  {
   "cell_type": "markdown",
   "metadata": {},
   "source": [
    "## رکوٍئست و استخراج اطلاعات (crawling)"
   ]
  },
  {
   "cell_type": "code",
   "execution_count": null,
   "metadata": {},
   "outputs": [],
   "source": [
    "# نام شهر ها\n",
    "html = requests.get('https://fidilio.com/coffeeshops/')\n",
    "if html.status_code == 200:\n",
    "    \n",
    "    \n",
    "    soup=BeautifulSoup(html.content,'html.parser')\n",
    "\n",
    "    inputTag = soup.find_all(\"option\")\n",
    "\n",
    "    citys=list()\n",
    "    for i in inputTag:\n",
    "    \n",
    "        city=i.get(\"value\")\n",
    "        if city.isalpha():\n",
    "            citys.append(city)\n",
    "\n",
    "# city=\"isfahan\",\"shiraz\",\"mashhad\",\"tabriz\",\"kish\",\"tehran\",\"ghom\",\"arak\",\"ahwaz\",\"sabzevar\",\"urmia\",\"zanjan\",\"qazvin\",\"hamedan\",\"karaj\",\"kerman\",\"bandarabbas\"\n",
    "citys=list(set(citys))\n",
    "citys\n",
    "\n"
   ]
  },
  {
   "cell_type": "code",
   "execution_count": null,
   "metadata": {},
   "outputs": [],
   "source": [
    "# لینک کل کافه ها همراه شهر آن\n",
    "link_cafe=[]\n",
    "for city in citys:\n",
    "    break_=0\n",
    "    \n",
    "    for i in range(50):\n",
    "        if break_>5:break\n",
    "        html=requests.get(\"https://fidilio.com/coffeeshops/in/%s/?p=%d\"%(city,i))\n",
    "        if html.status_code == 200:\n",
    "            soup=BeautifulSoup(html.content,'html.parser')\n",
    "            print(True)\n",
    "        \n",
    "\n",
    "            for a in soup.find_all('a',class_=\"restaurant-link\", href=True):\n",
    "                sleep(0.2)\n",
    "                if a[\"href\"] in link_cafe:\n",
    "                    break_ +=1\n",
    "                    continue\n",
    "                link_cafe.append((a[\"href\"],city))\n",
    "                # print(\"Found the URL:\", a['href'])\n",
    "                \n",
    "                \n",
    "        "
   ]
  },
  {
   "cell_type": "code",
   "execution_count": null,
   "metadata": {},
   "outputs": [],
   "source": [
    "# درخاست به هر صفحه مختص به یک کافه و استخراج اطلاعات \n",
    "\n",
    "c=list()\n",
    "counter=0\n",
    "for href in range(len(link_cafe)):\n",
    "    # sleep(5)\n",
    "    html = requests.get(\"https://fidilio.com/%s\"%link_cafe[href][0])\n",
    "    if html.status_code ==  200:\n",
    "    \n",
    "    \n",
    "        soup=BeautifulSoup(html.content,'html.parser')\n",
    "        print(True)\n",
    "\n",
    "        cafe=dict()\n",
    "        cafe[\"name\"]=try_css_selector(soup,\"h1\")\n",
    " \n",
    "        cafe[\"city\"]=link_cafe[href][1]\n",
    "        cafe['address']=try_css_selector(soup,\".fa-map-marker+ .note\")\n",
    "        try:\n",
    "             cafe['phone']=int(try_css_selector(soup,\".note a\"))\n",
    "        except (TypeError , ValueError):\n",
    "            cafe['phone']=None\n",
    "        try:\n",
    "            cafe['price_ratio']=try_css_selector(soup,\".price-class\").count(\"$\")\n",
    "        except:\n",
    "            cafe['price_ratio']=None\n",
    "        \n",
    "        temp_time=try_css_selector(soup,\".note .note\")\n",
    "        \n",
    "            \n",
    "        \n",
    "        cafe=merge_dic(cafe,time_(temp_time))  \n",
    "        \n",
    "            \n",
    "        try:\n",
    "           cafe[\"features\"]=try_css_selector(soup,\".venue-features-box\").replace(\"\\n\",\",\")#.split(\"\\n\")\n",
    "        except:\n",
    "            cafe[\"features\"]=None\n",
    "        try:\n",
    "            \n",
    "            # استخراج امتیازات نظردهی به چهار مورد (کیفیت غذا ، دکوراسیون ، سرویس دهی و غیره)\n",
    "            n_star=list()\n",
    "            star=soup.find_all(\"div\",attrs={\"data-rateit-resetable\":\"false\"})\n",
    "            star=list(star)[:5]\n",
    "\n",
    "            for i in star:\n",
    "    \n",
    "                temp1=re.search(r'.*\"([\\d\\.\\s]+)\".*',str(i))\n",
    "                if temp1:\n",
    "                    n_star.append(float(temp1.group(1).strip()))\n",
    "                \n",
    "        \n",
    "            cafe[\"score_food_quality\"]=n_star[0]\n",
    "            cafe[\"score_service\"]=n_star[1]\n",
    "            cafe[\"score_value_money\"]=n_star[2]\n",
    "            cafe[\"score_Decor_env\"]=n_star[3]\n",
    "            cafe[\"score_total\"]=n_star[4]\n",
    "        \n",
    "        except:\n",
    "            cafe[\"score_food_quality\"]=None\n",
    "            cafe[\"score_service\"]=None\n",
    "            cafe[\"score_value_money\"]=None\n",
    "            cafe[\"score_Decor_env\"]=None\n",
    "            cafe[\"score_total\"]=None\n",
    "            \n",
    "        \n",
    "        c.append(cafe)\n",
    "        sleep(0.2)\n",
    "        print(counter)\n",
    "        counter+=1"
   ]
  },
  {
   "cell_type": "code",
   "execution_count": 22,
   "metadata": {},
   "outputs": [
    {
     "name": "stdout",
     "output_type": "stream",
     "text": [
      "nan  0\n",
      "c  0\n",
      "nan  0\n",
      "c  1\n",
      "nan  0\n",
      "c  2\n",
      "nan  0\n",
      "c  3\n",
      "nan  0\n",
      "c  4\n",
      "nan  0\n",
      "c  5\n",
      "nan  0\n",
      "c  6\n",
      "nan  0\n",
      "c  7\n",
      "nan  0\n",
      "c  8\n",
      "nan  0\n",
      "c  9\n",
      "nan  0\n",
      "c  10\n",
      "nan  0\n",
      "c  11\n",
      "nan  0\n",
      "c  12\n",
      "nan  0\n",
      "c  13\n",
      "nan  0\n",
      "c  14\n",
      "nan  0\n",
      "c  15\n",
      "nan  0\n",
      "c  16\n",
      "nan  0\n",
      "c  17\n",
      "nan  0\n",
      "c  18\n",
      "nan  0\n",
      "c  19\n"
     ]
    }
   ],
   "source": [
    "# convert dict to DateFrame\n",
    "df=pd.DataFrame()\n",
    "nan=0\n",
    "counter=0\n",
    "for i in range(len(c)):  \n",
    "        output=pd.DataFrame(c[i],index=[0])\n",
    "        if output.isnull().sum().sum()>9:\n",
    "            nan+=1\n",
    "        else: \n",
    "            nan=0\n",
    "            df=pd.concat([df,output],axis=0,ignore_index=True)\n",
    "            \n",
    "        print(\"nan \",nan)\n",
    "        print(\"c \",counter)\n",
    "        counter+=1\n",
    "        "
   ]
  },
  {
   "attachments": {},
   "cell_type": "markdown",
   "metadata": {},
   "source": [
    "## datatime تبدیل فرمت استرینگ ساعت کاری به  "
   ]
  },
  {
   "cell_type": "code",
   "execution_count": 50,
   "metadata": {},
   "outputs": [],
   "source": [
    "df['time_open_weekday']=df['time_open_weekday'].replace(\"24:00\",\"00:00\")\n",
    "df['time_open_weekday']=df['time_open_weekday'].replace(\"24:30\",\"00:30\")\n",
    "# df[df[\"time_open_weekday\"]==\"24:00\"]\n",
    "df.time_open_weekday = pd.to_datetime(df[\"time_open_weekday\"]).dt.time"
   ]
  },
  {
   "cell_type": "code",
   "execution_count": 54,
   "metadata": {},
   "outputs": [],
   "source": [
    "df['time_close_weekday']=df['time_close_weekday'].replace(\"24:00\",\"00:00\")\n",
    "df['time_close_weekday']=df['time_close_weekday'].replace(\"24:30\",\"00:30\")\n",
    "df.time_close_weekday = pd.to_datetime(df[\"time_close_weekday\"]).dt.time"
   ]
  },
  {
   "cell_type": "code",
   "execution_count": 56,
   "metadata": {},
   "outputs": [],
   "source": [
    "df['time_open_weekend']=df['time_open_weekend'].replace(\"24:00\",\"00:00\")\n",
    "df['time_open_weekend']=df['time_open_weekend'].replace(\"24:30\",\"03:00\")\n",
    "df.time_open_weekend = pd.to_datetime(df[\"time_open_weekend\"]).dt.time"
   ]
  },
  {
   "cell_type": "code",
   "execution_count": 57,
   "metadata": {},
   "outputs": [],
   "source": [
    "df['time_close_weekend']=df['time_close_weekend'].replace(\"24:00\",\"00:00\")\n",
    "df['time_close_weekend']=df['time_close_weekend'].replace(\"24:30\",\"00:30\")\n",
    "df.time_close_weekend = pd.to_datetime(df[\"time_close_weekend\"]).dt.time"
   ]
  },
  {
   "cell_type": "markdown",
   "metadata": {},
   "source": [
    "## ذخیره خروجی به فایل اکسل"
   ]
  },
  {
   "cell_type": "code",
   "execution_count": 58,
   "metadata": {},
   "outputs": [],
   "source": [
    "df.to_excel(\"cafeha5.xlsx\")"
   ]
  }
 ],
 "metadata": {
  "kernelspec": {
   "display_name": "Python 3",
   "language": "python",
   "name": "python3"
  },
  "language_info": {
   "codemirror_mode": {
    "name": "ipython",
    "version": 3
   },
   "file_extension": ".py",
   "mimetype": "text/x-python",
   "name": "python",
   "nbconvert_exporter": "python",
   "pygments_lexer": "ipython3",
   "version": "3.11.1"
  },
  "orig_nbformat": 4,
  "vscode": {
   "interpreter": {
    "hash": "d8aa3f3852f3d99752073d03a68f7998bf7e9e0b6712502d1f8ad35f5711b2ca"
   }
  }
 },
 "nbformat": 4,
 "nbformat_minor": 2
}
